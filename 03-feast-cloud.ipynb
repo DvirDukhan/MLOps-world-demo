{
 "cells": [
  {
   "cell_type": "markdown",
   "id": "5cfe2d33-20fb-4bd3-9bee-035c35f93628",
   "metadata": {},
   "source": [
    "### Using Redis with Feast\n",
    "In this section we will see how Redis is being used with [Feast](https://feast.dev/). Since Feast 0.11, Redis is a first class citizen in Feast's current architecture, and requires no addtional coding in order to use it.\n",
    "\n",
    "<img src=\"./images/feast_data_model.png\" width=\"800\">"
   ]
  },
  {
   "cell_type": "code",
   "execution_count": 1,
   "id": "46d55efe-4046-47b8-89b7-61753da4d513",
   "metadata": {},
   "outputs": [
    {
     "name": "stdout",
     "output_type": "stream",
     "text": [
      "/home/dvirdukhan/Code/mlops-world-demo/feature_repo_cloud\n"
     ]
    }
   ],
   "source": [
    "%cd feature_repo_cloud"
   ]
  },
  {
   "cell_type": "code",
   "execution_count": 2,
   "id": "785e2778-74da-4a6b-a75f-4e1fa24ad170",
   "metadata": {},
   "outputs": [
    {
     "name": "stdout",
     "output_type": "stream",
     "text": [
      "\u001b[94mproject\u001b[39;49;00m:\u001b[37m \u001b[39;49;00mdemo_repo\u001b[37m\u001b[39;49;00m\n",
      "\u001b[94mregistry\u001b[39;49;00m:\u001b[37m \u001b[39;49;00mdata/registry.db\u001b[37m\u001b[39;49;00m\n",
      "\u001b[94mprovider\u001b[39;49;00m:\u001b[37m \u001b[39;49;00mlocal\u001b[37m\u001b[39;49;00m\n",
      "\u001b[94monline_store\u001b[39;49;00m:\u001b[37m\u001b[39;49;00m\n",
      "\u001b[37m    \u001b[39;49;00m\u001b[94mtype\u001b[39;49;00m:\u001b[37m \u001b[39;49;00mredis\u001b[37m\u001b[39;49;00m\n",
      "\u001b[37m    \u001b[39;49;00m\u001b[94mconnection_string\u001b[39;49;00m:\u001b[37m \u001b[39;49;00m${REDIS_HOST}:${REDIS_PORT},password=${REDIS_PASSWORD}\u001b[37m\u001b[39;49;00m\n"
     ]
    }
   ],
   "source": [
    "!pygmentize feature_store.yaml"
   ]
  },
  {
   "cell_type": "code",
   "execution_count": 3,
   "id": "1ec0774d-db80-4013-a6f6-76379a63dfcf",
   "metadata": {},
   "outputs": [],
   "source": [
    "# !pygmentize example.py"
   ]
  },
  {
   "cell_type": "code",
   "execution_count": 2,
   "id": "2d899ea0-0c8e-43f4-94e7-c3d4e266661f",
   "metadata": {},
   "outputs": [
    {
     "name": "stdout",
     "output_type": "stream",
     "text": [
      "Created entity \u001b[1m\u001b[32mdriver\u001b[0m\n",
      "Created feature view \u001b[1m\u001b[32mdriver_hourly_stats\u001b[0m\n",
      "Created feature service \u001b[1m\u001b[32mdriver_activity\u001b[0m\n",
      "\n",
      "Deploying infrastructure for \u001b[1m\u001b[32mdriver_hourly_stats\u001b[0m\n"
     ]
    }
   ],
   "source": [
    "!feast apply"
   ]
  },
  {
   "cell_type": "code",
   "execution_count": 3,
   "id": "ec264ad3-486e-42db-8812-8c710b1e0f48",
   "metadata": {},
   "outputs": [
    {
     "name": "stdout",
     "output_type": "stream",
     "text": [
      "Materializing \u001b[1m\u001b[32m1\u001b[0m feature views to \u001b[1m\u001b[32m2022-06-15 00:31:45+03:00\u001b[0m into the \u001b[1m\u001b[32mredis\u001b[0m online store.\n",
      "\n",
      "\u001b[1m\u001b[32mdriver_hourly_stats\u001b[0m from \u001b[1m\u001b[32m2022-06-07 21:31:46+03:00\u001b[0m to \u001b[1m\u001b[32m2022-06-15 00:31:45+03:00\u001b[0m:\n",
      "100%|█████████████████████████████████████████████████████████████████| 5/5 [00:03<00:00,  1.27it/s]\n"
     ]
    }
   ],
   "source": [
    "\n",
    "!feast materialize-incremental $(date -u +\"%Y-%m-%dT%H:%M:%S\")"
   ]
  },
  {
   "cell_type": "markdown",
   "id": "7556cd2f-c679-4d36-a44c-b48c7446196a",
   "metadata": {},
   "source": [
    "Create a redis client to check the network latency"
   ]
  },
  {
   "cell_type": "code",
   "execution_count": 10,
   "id": "ca733b66-188b-4690-84f0-e8337fdc1c89",
   "metadata": {},
   "outputs": [],
   "source": [
    "import redis\n",
    "import os\n",
    "r = redis.Redis(host = os.environ['REDIS_HOST'], port = os.environ['REDIS_PORT'], password=os.environ['REDIS_PASSWORD'] )"
   ]
  },
  {
   "cell_type": "code",
   "execution_count": 12,
   "id": "97dd5f13-8bea-4335-b222-a2d7cf974cd3",
   "metadata": {},
   "outputs": [
    {
     "name": "stdout",
     "output_type": "stream",
     "text": [
      "CPU times: user 3.18 ms, sys: 0 ns, total: 3.18 ms\n",
      "Wall time: 161 ms\n"
     ]
    },
    {
     "data": {
      "text/plain": [
       "True"
      ]
     },
     "execution_count": 12,
     "metadata": {},
     "output_type": "execute_result"
    }
   ],
   "source": [
    "%%time\n",
    "r.ping()"
   ]
  },
  {
   "cell_type": "code",
   "execution_count": 5,
   "id": "84a73a0c-caaa-4ae7-8c7c-25827d92ea25",
   "metadata": {},
   "outputs": [],
   "source": [
    "from pprint import pprint\n",
    "from feast import FeatureStore\n",
    "\n",
    "store = FeatureStore(repo_path=\".\")"
   ]
  },
  {
   "cell_type": "code",
   "execution_count": 9,
   "id": "dc9ee9ba-ba8e-4c3b-b0a0-48cc71686da7",
   "metadata": {},
   "outputs": [
    {
     "name": "stdout",
     "output_type": "stream",
     "text": [
      "CPU times: user 1.7 ms, sys: 3.65 ms, total: 5.35 ms\n",
      "Wall time: 161 ms\n"
     ]
    }
   ],
   "source": [
    "%%time\n",
    "feature_vector = store.get_online_features(\n",
    "    features=[\n",
    "        \"driver_hourly_stats:conv_rate\",\n",
    "        \"driver_hourly_stats:acc_rate\",\n",
    "        \"driver_hourly_stats:avg_daily_trips\",\n",
    "    ],\n",
    "    entity_rows=[\n",
    "        {\"driver_id\": 0},\n",
    "        {\"driver_id\": 1002},\n",
    "        {\"driver_id\": 1003},\n",
    "        {\"driver_id\": 1004},\n",
    "        {\"driver_id\": 1005},\n",
    "    ],\n",
    ")"
   ]
  },
  {
   "cell_type": "code",
   "execution_count": 7,
   "id": "518cd29a-66fd-489c-899e-cf6a739d9d57",
   "metadata": {},
   "outputs": [
    {
     "name": "stdout",
     "output_type": "stream",
     "text": [
      "{'acc_rate': [None,\n",
      "              0.1812489926815033,\n",
      "              0.2525552213191986,\n",
      "              0.2085496187210083,\n",
      "              0.6677494645118713],\n",
      " 'avg_daily_trips': [None, 787, 596, 832, 606],\n",
      " 'conv_rate': [None,\n",
      "               0.3829907476902008,\n",
      "               0.4977691173553467,\n",
      "               0.40254834294319153,\n",
      "               0.07789330184459686],\n",
      " 'driver_id': [0, 1002, 1003, 1004, 1005]}\n"
     ]
    }
   ],
   "source": [
    "pprint(feature_vector.to_dict())"
   ]
  },
  {
   "cell_type": "markdown",
   "id": "da9f1788-5c7b-4956-ad91-8798c42ced41",
   "metadata": {},
   "source": [
    "### Summary\n",
    "We saw the usage of Feast in order to get feature vectors into redis. \n",
    "\n",
    "Target persona: MLOps engineers/Data engineers/Platform architects.\n",
    "Consider using this approach if:\n",
    "1. You are looking for fast development/deployment time - not intending to write your own feature store layer/product.\n",
    "    1. You are not in control of your data path.\n",
    "    1. You are \"OK\" with 3rd party data modeling/access patterns/data serilization or compression."
   ]
  }
 ],
 "metadata": {
  "kernelspec": {
   "display_name": "Python 3 (ipykernel)",
   "language": "python",
   "name": "python3"
  },
  "language_info": {
   "codemirror_mode": {
    "name": "ipython",
    "version": 3
   },
   "file_extension": ".py",
   "mimetype": "text/x-python",
   "name": "python",
   "nbconvert_exporter": "python",
   "pygments_lexer": "ipython3",
   "version": "3.8.10"
  }
 },
 "nbformat": 4,
 "nbformat_minor": 5
}
