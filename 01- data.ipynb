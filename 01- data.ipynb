{
 "cells": [
  {
   "cell_type": "markdown",
   "id": "76507c94-e44c-4eee-85db-bba5dc701872",
   "metadata": {},
   "source": [
    "### Quick data overview"
   ]
  },
  {
   "cell_type": "markdown",
   "id": "a7f8019a-3590-400e-9c35-912aee517807",
   "metadata": {},
   "source": [
    "Read the `driver_stats.parquet` file. In this demo, we will treat the records on the parquet files as a stream of continually updats for serveral entities, meaning an entity could have been updated more than once ."
   ]
  },
  {
   "cell_type": "code",
   "execution_count": null,
   "id": "c4b1b7d0-0fa6-454f-b6bd-7ae7522c80c9",
   "metadata": {},
   "outputs": [],
   "source": [
    "import pandas as pd\n",
    "df = pd.read_parquet(\"./data/driver_stats.parquet\")\n",
    "df"
   ]
  },
  {
   "cell_type": "markdown",
   "id": "7563bdc1-21ba-40af-925e-a9589367c28b",
   "metadata": {},
   "source": [
    "Find the unique entities"
   ]
  },
  {
   "cell_type": "code",
   "execution_count": null,
   "id": "fa17df28-e8b6-4002-8084-8c1e4d6807a5",
   "metadata": {},
   "outputs": [],
   "source": [
    "df.driver_id.unique()"
   ]
  },
  {
   "cell_type": "markdown",
   "id": "3cb64e26-b38c-4868-8590-ddb2074a112b",
   "metadata": {},
   "source": [
    "For each entity, find the latest time stamp it was updated. Those records are the only ones that will be present in the online feature store (Redis)"
   ]
  },
  {
   "cell_type": "code",
   "execution_count": null,
   "id": "91ee4809-44d2-41ff-aa6e-03bc9ffe6856",
   "metadata": {},
   "outputs": [],
   "source": [
    "frames = []\n",
    "for driver_id in df.driver_id.unique():\n",
    "    driver_df = df[ df.driver_id == driver_id]\n",
    "    driver_df = driver_df[driver_df.event_timestamp == driver_df.event_timestamp.max()]\n",
    "    frames.append(driver_df)\n",
    "pd.concat(frames)"
   ]
  }
 ],
 "metadata": {
  "kernelspec": {
   "display_name": "Python 3 (ipykernel)",
   "language": "python",
   "name": "python3"
  },
  "language_info": {
   "codemirror_mode": {
    "name": "ipython",
    "version": 3
   },
   "file_extension": ".py",
   "mimetype": "text/x-python",
   "name": "python",
   "nbconvert_exporter": "python",
   "pygments_lexer": "ipython3",
   "version": "3.8.10"
  },
  "vscode": {
   "interpreter": {
    "hash": "037241f8574b92ae511969dc9fee7a9a08605bad3375c98bd582d408658fa67b"
   }
  }
 },
 "nbformat": 4,
 "nbformat_minor": 5
}
