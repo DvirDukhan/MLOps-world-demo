{
 "cells": [
  {
   "cell_type": "markdown",
   "id": "5cfe2d33-20fb-4bd3-9bee-035c35f93628",
   "metadata": {},
   "source": [
    "### Using Redis with Feast\n",
    "In this section we will see how Redis is being used with [Feast](https://feast.dev/). Since Feast 0.11, Redis is a first class citizen in Feast's current architecture, and requires no addtional coding in order to use it.\n",
    "\n",
    "<img src=\"./images/feast_data_model.png\" width=\"800\">"
   ]
  },
  {
   "cell_type": "code",
   "execution_count": null,
   "id": "46d55efe-4046-47b8-89b7-61753da4d513",
   "metadata": {},
   "outputs": [],
   "source": [
    "%cd feature_repo_local"
   ]
  },
  {
   "cell_type": "code",
   "execution_count": null,
   "id": "785e2778-74da-4a6b-a75f-4e1fa24ad170",
   "metadata": {},
   "outputs": [],
   "source": [
    "!pygmentize feature_store.yaml"
   ]
  },
  {
   "cell_type": "code",
   "execution_count": null,
   "id": "2d899ea0-0c8e-43f4-94e7-c3d4e266661f",
   "metadata": {},
   "outputs": [],
   "source": [
    "!feast apply"
   ]
  },
  {
   "cell_type": "code",
   "execution_count": null,
   "id": "ec264ad3-486e-42db-8812-8c710b1e0f48",
   "metadata": {},
   "outputs": [],
   "source": [
    "\n",
    "!feast materialize-incremental $(date -u +\"%Y-%m-%dT%H:%M:%S\")"
   ]
  },
  {
   "cell_type": "markdown",
   "id": "1772984f-5903-425a-8094-7830cf6f0b08",
   "metadata": {},
   "source": [
    "Create a redis client to check the network latency"
   ]
  },
  {
   "cell_type": "code",
   "execution_count": null,
   "id": "35b5437b-2b56-4ced-a3a6-37e76c1ca295",
   "metadata": {},
   "outputs": [],
   "source": [
    "import redis\n",
    "import os\n",
    "r = redis.Redis(host = os.environ['REDIS_HOST'], port = os.environ['REDIS_PORT'], password=os.environ['REDIS_PASSWORD'] )"
   ]
  },
  {
   "cell_type": "code",
   "execution_count": null,
   "id": "8ecb0da4-724c-476c-8706-e113f46eeeba",
   "metadata": {},
   "outputs": [],
   "source": [
    "%%time\n",
    "r.ping()"
   ]
  },
  {
   "cell_type": "code",
   "execution_count": null,
   "id": "84a73a0c-caaa-4ae7-8c7c-25827d92ea25",
   "metadata": {},
   "outputs": [],
   "source": [
    "from pprint import pprint\n",
    "from feast import FeatureStore\n",
    "\n",
    "store = FeatureStore(repo_path=\".\")"
   ]
  },
  {
   "cell_type": "code",
   "execution_count": null,
   "id": "dc9ee9ba-ba8e-4c3b-b0a0-48cc71686da7",
   "metadata": {},
   "outputs": [],
   "source": [
    "%%time\n",
    "feature_vector = store.get_online_features(\n",
    "    features=[\n",
    "        \"driver_hourly_stats:conv_rate\",\n",
    "        \"driver_hourly_stats:acc_rate\",\n",
    "        \"driver_hourly_stats:avg_daily_trips\",\n",
    "    ],\n",
    "    entity_rows=[\n",
    "        {\"driver_id\": 1001},\n",
    "        {\"driver_id\": 1002},\n",
    "        {\"driver_id\": 1003},\n",
    "        {\"driver_id\": 1004},\n",
    "        {\"driver_id\": 1005},\n",
    "    ],\n",
    ")"
   ]
  },
  {
   "cell_type": "code",
   "execution_count": null,
   "id": "518cd29a-66fd-489c-899e-cf6a739d9d57",
   "metadata": {},
   "outputs": [],
   "source": [
    "pprint(feature_vector.to_dict())"
   ]
  },
  {
   "cell_type": "markdown",
   "id": "da9f1788-5c7b-4956-ad91-8798c42ced41",
   "metadata": {},
   "source": [
    "### Summary\n",
    "We saw the usage of Feast and Redis to get your online features ready to use. \n",
    "\n",
    "Target persona: MLOps engineers/Data engineers.\n",
    "Consider using this approach if:\n",
    "1. You are looking for fast development/deployment time - not intending to write your own feature store layer/product.\n",
    "    1. You are \"OK\" with 3rd party data modeling/access patterns/data serilization or compression."
   ]
  }
 ],
 "metadata": {
  "kernelspec": {
   "display_name": "Python 3 (ipykernel)",
   "language": "python",
   "name": "python3"
  },
  "language_info": {
   "codemirror_mode": {
    "name": "ipython",
    "version": 3
   },
   "file_extension": ".py",
   "mimetype": "text/x-python",
   "name": "python",
   "nbconvert_exporter": "python",
   "pygments_lexer": "ipython3",
   "version": "3.8.10"
  }
 },
 "nbformat": 4,
 "nbformat_minor": 5
}
